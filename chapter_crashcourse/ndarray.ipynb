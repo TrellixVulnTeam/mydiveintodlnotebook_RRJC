{
 "cells": [
  {
   "cell_type": "markdown",
   "metadata": {},
   "source": [
    "# Data Manipulation\n",
    "\n",
    ":label:`chapter_ndarray`\n",
    "\n",
    "\n",
    "In order to get anything done, we must have some way to manipulate data. \n",
    "Generally, there are two important things we need to do with data: \n",
    "(i) acquire it and (ii) process it once it is inside the computer. \n",
    "There is no point in acquiring data if we do not even know how to store it, \n",
    "so let's get our hands dirty first by playing with synthetic data. \n",
    "We will start by introducing the N-dimensional array (ndarray), \n",
    "MXNet's primary tool for storing and transforming data. \n",
    "If you have worked with NumPy, perhaps the most widely-used \n",
    "scientific computing package in Python, then you are ready to fly. \n",
    "In short, we designed MXNet's ndarray to be \n",
    "an extension to NumPy's ndarray with a few key advantages.\n",
    "First, MXNet's ndarray supports asynchronous computation \n",
    "on CPU, GPU, and distributed cloud architectures, \n",
    "whereas the latter only supports CPU computation. \n",
    "Second, MXNet's ndarray supports automatic differentiation. \n",
    "These properties make MXNet's ndarray indispensable for deep learning.\n",
    "\n",
    "## Getting Started\n",
    "\n",
    "Throughout this chapter, our aim is to get you up and running,\n",
    "equipping you with the the basic maths and numerical computing tools\n",
    "that you will be mastering throughout the course of the book. \n",
    "Do not worry if you are not completely comfortable \n",
    "with all of the mathematical concepts or library functions. \n",
    "In the following chapters we will revist the same material \n",
    "in the context practical examples. \n",
    "On the other hand, if you already have some background \n",
    "and want to go deeper into the mathematical content, see :numref:`chapter_math`.\n",
    "\n",
    "To start, we import the `np` and `npx` modules from MXNet. \n",
    "Here, `np` module includes the same functions supported by NumPy, \n",
    "while `npx` module contains a set of extendions \n",
    "developed to empower deep learning within a NumPy-like environment. \n",
    "When using ndarray, we almost always invoke the `set_np` function: \n",
    "this is for compatibility of ndarray processing by other components of MXNet."
   ]
  },
  {
   "cell_type": "code",
   "execution_count": 1,
   "metadata": {
    "attributes": {
     "classes": [],
     "id": "",
     "n": "1"
    }
   },
   "outputs": [],
   "source": [
    "from mxnet import np, npx\n",
    "npx.set_np()"
   ]
  },
  {
   "cell_type": "markdown",
   "metadata": {},
   "source": [
    "An ndarray represents a (possibly multi-dimensional) array of numerical values. \n",
    "With one axis, an ndarray corresponds (in math-speak) to a *vector*. \n",
    "With two axes, an ndarray corresponds to a *matrix*. \n",
    "Arrays with more than two axes do not have special mathematical names---we simply call them *tensors*.\n",
    "\n",
    "The simplest object we can create is a vector. \n",
    "To start, we can use `arange` to create a row vector `x` \n",
    "containing the first 12 integers \n",
    "(the values are integers but datatype defaults to float). \n",
    "Unless otherwise specified, a new ndarray \n",
    "will be stored in main memory and designated for CPU-based computation."
   ]
  },
  {
   "cell_type": "code",
   "execution_count": 2,
   "metadata": {
    "attributes": {
     "classes": [],
     "id": "",
     "n": "2"
    }
   },
   "outputs": [
    {
     "data": {
      "text/plain": [
       "array([ 0.,  1.,  2.,  3.,  4.,  5.,  6.,  7.,  8.,  9., 10., 11.])"
      ]
     },
     "execution_count": 2,
     "metadata": {},
     "output_type": "execute_result"
    }
   ],
   "source": [
    "x = np.arange(12)\n",
    "x"
   ]
  },
  {
   "cell_type": "markdown",
   "metadata": {},
   "source": [
    "We can access an ndarray's shape (the lengths along each axis)\n",
    "by inspecting its `shape` property:"
   ]
  },
  {
   "cell_type": "code",
   "execution_count": 3,
   "metadata": {
    "attributes": {
     "classes": [],
     "id": "",
     "n": "8"
    }
   },
   "outputs": [
    {
     "data": {
      "text/plain": [
       "(12,)"
      ]
     },
     "execution_count": 3,
     "metadata": {},
     "output_type": "execute_result"
    }
   ],
   "source": [
    "x.shape"
   ]
  },
  {
   "cell_type": "markdown",
   "metadata": {},
   "source": [
    "If we just want to know the total number of elements in the ndarray,\n",
    "i.e. the product of all of the shape elements, \n",
    "we can inspect its `size` property. \n",
    "Because we are dealing with a vector here, \n",
    "the shape only has one component\n",
    "and thus the two are identical."
   ]
  },
  {
   "cell_type": "code",
   "execution_count": 4,
   "metadata": {
    "attributes": {
     "classes": [],
     "id": "",
     "n": "9"
    }
   },
   "outputs": [
    {
     "data": {
      "text/plain": [
       "12"
      ]
     },
     "execution_count": 4,
     "metadata": {},
     "output_type": "execute_result"
    }
   ],
   "source": [
    "x.size"
   ]
  },
  {
   "cell_type": "markdown",
   "metadata": {},
   "source": [
    "To change the shape of an ndarray \n",
    "without altering either the number of elements or their values,\n",
    "we can invoke the `reshape` function.\n",
    "For example, we can transform our ndarray `x` \n",
    "from a line vector with shape (12) to a matrix  to (3, 4).\n",
    "This new vector contains the exact same values \n",
    "treats them as a matrix organized as 3 rows and 4 columns. \n",
    "To reiterate, although the shape has changed, the elements in `x` have not. \n",
    "Consequently, the `size` remains the same."
   ]
  },
  {
   "cell_type": "code",
   "execution_count": 5,
   "metadata": {
    "attributes": {
     "classes": [],
     "id": "",
     "n": "3"
    }
   },
   "outputs": [
    {
     "data": {
      "text/plain": [
       "array([[ 0.,  1.,  2.,  3.],\n",
       "       [ 4.,  5.,  6.,  7.],\n",
       "       [ 8.,  9., 10., 11.]])"
      ]
     },
     "execution_count": 5,
     "metadata": {},
     "output_type": "execute_result"
    }
   ],
   "source": [
    "x = x.reshape(3, 4)\n",
    "x"
   ]
  },
  {
   "cell_type": "markdown",
   "metadata": {},
   "source": [
    "Reshaping by manually specifying each of the dimensions can sometimes get annoying. \n",
    "For instance, if our target shape is a matrix with shape `(height, width)`,\n",
    "after we know the `width`, the height is given implicitly.\n",
    "Why should we have to perform the division ourselves? \n",
    "In the example above, to get a matrix with 3 rows, \n",
    "we specified both that it should have 3 rows and 4 columns. \n",
    "Fortunately, ndarray can automatically work out one dimension given the other. \n",
    "We invoke this capability by placing `-1` for the dimension\n",
    "that we would like ndarray to automatically infer. \n",
    "In our case, instead of calling `x.reshape(3, 4)`, \n",
    "we could have equivalently called `x.reshape(-1, 4)` or `x.reshape(3, -1)`."
   ]
  },
  {
   "cell_type": "code",
   "execution_count": 6,
   "metadata": {},
   "outputs": [
    {
     "data": {
      "text/plain": [
       "array([[-1.3722314e+15,  3.0621174e-41,  0.0000000e+00,  0.0000000e+00],\n",
       "       [ 2.8025969e-45,  8.8281803e-44,  1.4012985e-45,  1.4012985e-44],\n",
       "       [ 2.1305174e-19,  4.5758000e-41,  1.6815582e-44,  0.0000000e+00]])"
      ]
     },
     "execution_count": 6,
     "metadata": {},
     "output_type": "execute_result"
    }
   ],
   "source": [
    "np.empty((3, 4))"
   ]
  },
  {
   "cell_type": "markdown",
   "metadata": {},
   "source": [
    "The `empty` method grabs a chunk of memory and hands us back a matrix \n",
    "without bothering to change the values of any of its entries. \n",
    "This is remarkably efficient but we must be careful because \n",
    "the entries might take arbitrary values, including very big ones! \n",
    "Typically, we'll want our matrices initialized either with ones, zeros, \n",
    "some known constant or numbers randomly sampled from a known distribution.\n",
    "\n",
    "Perhaps most often, we want an array of all zeros. \n",
    "To create an ndarray representing a tensor with all elements set to 0 \n",
    "and a shape of (2, 3, 4) we can invoke:"
   ]
  },
  {
   "cell_type": "code",
   "execution_count": 7,
   "metadata": {
    "attributes": {
     "classes": [],
     "id": "",
     "n": "4"
    }
   },
   "outputs": [
    {
     "data": {
      "text/plain": [
       "array([[[0., 0., 0., 0.],\n",
       "        [0., 0., 0., 0.],\n",
       "        [0., 0., 0., 0.]],\n",
       "\n",
       "       [[0., 0., 0., 0.],\n",
       "        [0., 0., 0., 0.],\n",
       "        [0., 0., 0., 0.]]])"
      ]
     },
     "execution_count": 7,
     "metadata": {},
     "output_type": "execute_result"
    }
   ],
   "source": [
    "np.zeros((2, 3, 4))"
   ]
  },
  {
   "cell_type": "markdown",
   "metadata": {},
   "source": [
    "We can create tensors with each element set to 1 as follows:"
   ]
  },
  {
   "cell_type": "code",
   "execution_count": 8,
   "metadata": {
    "attributes": {
     "classes": [],
     "id": "",
     "n": "5"
    }
   },
   "outputs": [
    {
     "data": {
      "text/plain": [
       "array([[[1., 1., 1., 1.],\n",
       "        [1., 1., 1., 1.],\n",
       "        [1., 1., 1., 1.]],\n",
       "\n",
       "       [[1., 1., 1., 1.],\n",
       "        [1., 1., 1., 1.],\n",
       "        [1., 1., 1., 1.]]])"
      ]
     },
     "execution_count": 8,
     "metadata": {},
     "output_type": "execute_result"
    }
   ],
   "source": [
    "np.ones((2, 3, 4))"
   ]
  },
  {
   "cell_type": "markdown",
   "metadata": {},
   "source": [
    "We can also specify the value of each element in the desired ndarray by supplying a Python list containing the numerical values. The supplied values can be integers or floats (or a mix) but the resulting ndarray will contain floats."
   ]
  },
  {
   "cell_type": "code",
   "execution_count": 9,
   "metadata": {
    "attributes": {
     "classes": [],
     "id": "",
     "n": "6"
    }
   },
   "outputs": [
    {
     "data": {
      "text/plain": [
       "array([[2., 1., 4., 3.],\n",
       "       [1., 2., 3., 4.],\n",
       "       [4., 3., 2., 1.]])"
      ]
     },
     "execution_count": 9,
     "metadata": {},
     "output_type": "execute_result"
    }
   ],
   "source": [
    "y = np.array([[2, 1, 4, 3], [1, 2, 3, 4], [4, 3, 2, 1]])\n",
    "y"
   ]
  },
  {
   "cell_type": "markdown",
   "metadata": {},
   "source": [
    "In some cases, we will want to randomly sample the values \n",
    "of each element in the ndarray according \n",
    "to some known probability distribution. \n",
    "One common case is when we construct an array \n",
    "to serve as a parameter in a neural network. \n",
    "The following snippet creates an ndarray with the shape (3,4). \n",
    "Each of its elements is randomly sampled \n",
    "from a standard Gaussian (normal) distribution \n",
    "with a mean of $0$ and a standard deviation of $1$."
   ]
  },
  {
   "cell_type": "code",
   "execution_count": 10,
   "metadata": {
    "attributes": {
     "classes": [],
     "id": "",
     "n": "7"
    }
   },
   "outputs": [
    {
     "data": {
      "text/plain": [
       "array([[ 2.2122064 ,  0.7740038 ,  1.0434405 ,  1.1839255 ],\n",
       "       [ 1.8917114 , -1.2347414 , -1.771029  , -0.45138445],\n",
       "       [ 0.57938355, -1.856082  , -1.9768796 , -0.20801921]])"
      ]
     },
     "execution_count": 10,
     "metadata": {},
     "output_type": "execute_result"
    }
   ],
   "source": [
    "np.random.normal(0, 1, size=(3, 4))"
   ]
  },
  {
   "cell_type": "markdown",
   "metadata": {},
   "source": [
    "## Operations\n",
    "\n",
    "This book isn't about web development—it's \n",
    "not enough to just read and write values.\n",
    "We want to perform mathematical operations on these arrays.\n",
    "Some of the simplest and most useful operations \n",
    "are the *element-wise* functions. \n",
    "These apply a standard scalar operation \n",
    "to each element of an array.\n",
    "For functions that take two arrays as inputs,\n",
    "element-wise operations apply some standard binary operator \n",
    "on each pair of corresponding elements from the two arrays. \n",
    "We can create an element-wise function from any function \n",
    "that maps from the scalars to the scalars. \n",
    "\n",
    "In math notation, we would denote such \n",
    "a *unary* scalar operator (taking one input) \n",
    "by the signature\n",
    "$f: \\mathbb{R} \\rightarrow \\mathbb{R}$\n",
    "and a *binary* scalar operator (taking two inputs)\n",
    "by the signature\n",
    "$f: \\mathbb{R}, \\mathbb{R} \\rightarrow \\mathbb{R}$. \n",
    "Given any two vectors $\\mathbf{u}$ and $\\mathbf{v}$ *of the same shape*, \n",
    "and a binary operator f, we can produce a vector \n",
    "$\\mathbf{c} = F(\\mathbf{u},\\mathbf{v})$ \n",
    "by setting $c_i \\gets f(u_i, v_i)$ for all $i$. \n",
    "Here, we produced the vector-valued \n",
    "$F: \\mathbb{R}^d, \\mathbb{R}^d \\rightarrow \\mathbb{R}^d$ \n",
    "by *lifting* the scalar function to an element-wise vector operation. \n",
    "In MXNet, the common standard arithmetic operators (+,-,/,\\*,\\*\\*) \n",
    "have all been *lifted* to element-wise operations \n",
    "for any identically-shaped tensors of arbitrary shape. \n",
    "We can call element-wise operations on any two tensors \n",
    "of the same shape."
   ]
  },
  {
   "cell_type": "code",
   "execution_count": 11,
   "metadata": {},
   "outputs": [
    {
     "name": "stdout",
     "output_type": "stream",
     "text": [
      "x = [1. 2. 4. 8.]\n",
      "x + y [ 3.  4.  6. 10.]\n",
      "x - y [-1.  0.  2.  6.]\n",
      "x * y [ 2.  4.  8. 16.]\n",
      "x ** y [ 1.  4. 16. 64.]\n",
      "x / y [0.5 1.  2.  4. ]\n"
     ]
    }
   ],
   "source": [
    "x = np.array([1, 2, 4, 8])\n",
    "y = np.ones_like(x) * 2\n",
    "print('x =', x)\n",
    "print('x + y', x + y)\n",
    "print('x - y', x - y)\n",
    "print('x * y', x * y)\n",
    "print('x ** y', x ** y)\n",
    "print('x / y', x / y)"
   ]
  },
  {
   "cell_type": "markdown",
   "metadata": {},
   "source": [
    "Many more operations can be applied element-wise, including unary operators like exponentiation:"
   ]
  },
  {
   "cell_type": "code",
   "execution_count": 12,
   "metadata": {
    "attributes": {
     "classes": [],
     "id": "",
     "n": "12"
    }
   },
   "outputs": [
    {
     "data": {
      "text/plain": [
       "array([2.7182817e+00, 7.3890562e+00, 5.4598148e+01, 2.9809580e+03])"
      ]
     },
     "execution_count": 12,
     "metadata": {},
     "output_type": "execute_result"
    }
   ],
   "source": [
    "np.exp(x)"
   ]
  },
  {
   "cell_type": "markdown",
   "metadata": {},
   "source": [
    "In addition to element-wise computations, \n",
    "we can also perform linear algebra operations, \n",
    "including vector dot products and matrix multiplication. \n",
    "In the following snippet, we perform matrix multiplication \n",
    "on `x` and the transpose of `y`. \n",
    "Here, `x` and `y` are both matrices with 3 rows and 4 columns.\n",
    "After applying the transpose operation,\n",
    "`y` becomes a matrix with 4 rows and 3 columns. \n",
    "After multiplication, we obtain a matrix \n",
    "with 3 rows and 3 columns.\n",
    "Do not worry if you are getting lost here.\n",
    "We will explain the crucial bits of linear algebra \n",
    "(with no assumed prior knowledge) in :numref:`chapter_linear_algebra`)."
   ]
  },
  {
   "cell_type": "code",
   "execution_count": 13,
   "metadata": {
    "attributes": {
     "classes": [],
     "id": "",
     "n": "13"
    }
   },
   "outputs": [
    {
     "data": {
      "text/plain": [
       "array([[ 18.,  20.,  10.],\n",
       "       [ 58.,  60.,  50.],\n",
       "       [ 98., 100.,  90.]])"
      ]
     },
     "execution_count": 13,
     "metadata": {},
     "output_type": "execute_result"
    }
   ],
   "source": [
    "x = np.arange(12).reshape(3,4)\n",
    "y = np.array([[2, 1, 4, 3], [1, 2, 3, 4], [4, 3, 2, 1]])\n",
    "np.dot(x, y.T)"
   ]
  },
  {
   "cell_type": "markdown",
   "metadata": {},
   "source": [
    "We can also concatenate multiple ndarrays together,\n",
    "stacking them end-to-end to form a larger ndarray. \n",
    "We just need to provide a list of ndarrays \n",
    "and tell the system along which axis to concatenate. \n",
    "The example below shows what happens when we concatenate \n",
    "two matrices along axis 0 (the rows) vs. axis 1 (the columns):"
   ]
  },
  {
   "cell_type": "code",
   "execution_count": 14,
   "metadata": {},
   "outputs": [
    {
     "data": {
      "text/plain": [
       "(array([[ 0.,  1.,  2.,  3.],\n",
       "        [ 4.,  5.,  6.,  7.],\n",
       "        [ 8.,  9., 10., 11.],\n",
       "        [ 2.,  1.,  4.,  3.],\n",
       "        [ 1.,  2.,  3.,  4.],\n",
       "        [ 4.,  3.,  2.,  1.]]),\n",
       " array([[ 0.,  1.,  2.,  3.,  2.,  1.,  4.,  3.],\n",
       "        [ 4.,  5.,  6.,  7.,  1.,  2.,  3.,  4.],\n",
       "        [ 8.,  9., 10., 11.,  4.,  3.,  2.,  1.]]))"
      ]
     },
     "execution_count": 14,
     "metadata": {},
     "output_type": "execute_result"
    }
   ],
   "source": [
    "np.concatenate([x, y], axis=0), np.concatenate([x, y], axis=1)"
   ]
  },
  {
   "cell_type": "markdown",
   "metadata": {},
   "source": [
    "Sometimes, we want to construct binary ndarrays via logical statements. \n",
    "Take `x == y` as an example. \n",
    "For each position, if `x` and `y` are equal at that position, \n",
    "the corresponding entry in the new ndarray takes a value of $1$,\n",
    "otherwise that position takes value $0$."
   ]
  },
  {
   "cell_type": "code",
   "execution_count": 15,
   "metadata": {},
   "outputs": [
    {
     "data": {
      "text/plain": [
       "array([[0., 1., 0., 1.],\n",
       "       [0., 0., 0., 0.],\n",
       "       [0., 0., 0., 0.]])"
      ]
     },
     "execution_count": 15,
     "metadata": {},
     "output_type": "execute_result"
    }
   ],
   "source": [
    "x == y"
   ]
  },
  {
   "cell_type": "markdown",
   "metadata": {},
   "source": [
    "Summing all the elements in the ndarray yields an ndarray with only one element:"
   ]
  },
  {
   "cell_type": "code",
   "execution_count": 16,
   "metadata": {},
   "outputs": [
    {
     "data": {
      "text/plain": [
       "array(66.)"
      ]
     },
     "execution_count": 16,
     "metadata": {},
     "output_type": "execute_result"
    }
   ],
   "source": [
    "x.sum()"
   ]
  },
  {
   "cell_type": "markdown",
   "metadata": {},
   "source": [
    "For stylistic convenience, we can write `y.exp()`, `x.sum()`, `x.norm()`, etc. also as `np.exp(y)`, `np.sum(x)`, `np.linalg.norm(x)`.\n",
    "\n",
    "## Broadcast Mechanism\n",
    "\n",
    "In the above section, we saw how to perform \n",
    "element-wise operations on two ndarrays of the same shape.\n",
    "Under certain conditions, even when shapes differ,\n",
    "we can still perform element-wise operations\n",
    "by invoking a broadcast mechanism.\n",
    "These mechanisms work in the following way:\n",
    "First, exapand one or both arrays\n",
    "by copying elements appropriately \n",
    "so that after this transformation, \n",
    "the two ndarrays have the same shape.\n",
    "Second, carry out the element-wise operations\n",
    "on the resulting matrices.\n",
    "We usually broadcast along an axis where an array\n",
    "initially only has length 1."
   ]
  },
  {
   "cell_type": "code",
   "execution_count": 17,
   "metadata": {
    "attributes": {
     "classes": [],
     "id": "",
     "n": "14"
    }
   },
   "outputs": [
    {
     "name": "stdout",
     "output_type": "stream",
     "text": [
      "a :  [[0.]\n",
      " [1.]\n",
      " [2.]]\n",
      "b :  [[0. 1.]]\n"
     ]
    }
   ],
   "source": [
    "a = np.arange(3).reshape(3, 1)\n",
    "b = np.arange(2).reshape(1, 2)\n",
    "print('a : ', a)\n",
    "print('b : ', b)"
   ]
  },
  {
   "cell_type": "markdown",
   "metadata": {},
   "source": [
    "Since `a` and `b` are ($3\\times1$) and ($1\\times2$) matrices respectively, \n",
    "their shapes do not match up if we want to add them. \n",
    "We 'broadcast' the entries of both matrices into a larger (3x2) matrix as follows: \n",
    "for matrix `a` it replicates the columns, \n",
    "for matrix `b` it replicates the rows \n",
    "before adding up both element-wise."
   ]
  },
  {
   "cell_type": "code",
   "execution_count": 18,
   "metadata": {},
   "outputs": [
    {
     "data": {
      "text/plain": [
       "array([[0., 1.],\n",
       "       [1., 2.],\n",
       "       [2., 3.]])"
      ]
     },
     "execution_count": 18,
     "metadata": {},
     "output_type": "execute_result"
    }
   ],
   "source": [
    "a + b"
   ]
  },
  {
   "cell_type": "markdown",
   "metadata": {},
   "source": [
    "## Indexing and Slicing\n",
    "\n",
    "Just as in any other Python array, elements in an ndarray can be accessed by index. \n",
    "As in any Python array, the first element has index 0\n",
    "and ranges are specified to include the first but not the last element. \n",
    "\n",
    "By this logic, `[-1]` selects the last element and `[1:3]` \n",
    "selects the second and the third elements. \n",
    "Notice that if you specify an integer index of an ndarray, it will return a scalar.\n",
    "However, if you specify an array of indices as the slicing range, \n",
    "it will return an array of scalars. \n",
    "Let's try this out and compare the outputs:"
   ]
  },
  {
   "cell_type": "code",
   "execution_count": 19,
   "metadata": {
    "attributes": {
     "classes": [],
     "id": "",
     "n": "19"
    }
   },
   "outputs": [
    {
     "name": "stdout",
     "output_type": "stream",
     "text": [
      "x[-1] :  [ 8.  9. 10. 11.]\n",
      "x[1:3] :  [[ 4.  5.  6.  7.]\n",
      " [ 8.  9. 10. 11.]]\n"
     ]
    }
   ],
   "source": [
    "print('x[-1] : ', x[-1])\n",
    "print('x[1:3] : ', x[1:3])"
   ]
  },
  {
   "cell_type": "markdown",
   "metadata": {},
   "source": [
    "Beyond reading, we can also write elements of a matrix."
   ]
  },
  {
   "cell_type": "code",
   "execution_count": 20,
   "metadata": {
    "attributes": {
     "classes": [],
     "id": "",
     "n": "20"
    }
   },
   "outputs": [
    {
     "data": {
      "text/plain": [
       "array([[ 0.,  1.,  2.,  3.],\n",
       "       [ 4.,  5.,  9.,  7.],\n",
       "       [ 8.,  9., 10., 11.]])"
      ]
     },
     "execution_count": 20,
     "metadata": {},
     "output_type": "execute_result"
    }
   ],
   "source": [
    "x[1, 2] = 9\n",
    "x"
   ]
  },
  {
   "cell_type": "markdown",
   "metadata": {},
   "source": [
    "If we want to assign multiple elements the same value, \n",
    "we simply index all of them and then assign them the value. \n",
    "For instance, `[0:2, :]` accesses the first and second rows. \n",
    "While we discussed indexing for matrices, \n",
    "this obviously also works for vectors \n",
    "and for tensors of more than 2 dimensions."
   ]
  },
  {
   "cell_type": "code",
   "execution_count": 21,
   "metadata": {
    "attributes": {
     "classes": [],
     "id": "",
     "n": "21"
    }
   },
   "outputs": [
    {
     "data": {
      "text/plain": [
       "array([[12., 12., 12., 12.],\n",
       "       [12., 12., 12., 12.],\n",
       "       [ 8.,  9., 10., 11.]])"
      ]
     },
     "execution_count": 21,
     "metadata": {},
     "output_type": "execute_result"
    }
   ],
   "source": [
    "x[0:2, :] = 12\n",
    "x"
   ]
  },
  {
   "cell_type": "markdown",
   "metadata": {},
   "source": [
    "## Saving Memory\n",
    "\n",
    "In the previous example, every time we ran an operation,\n",
    "we allocated new memory to host its results. \n",
    "For example, if we write `y = x + y`, \n",
    "we will dereference the matrix that `y` used to point to \n",
    "and instead point it at the newly allocated memory. \n",
    "In the following example, we demonstrate this with Python's `id()` function, \n",
    "which gives us the exact address of the referenced object in memory. \n",
    "After running `y = y + x`, we will find \n",
    "that `id(y)` points to a different location. \n",
    "That is because Python first evaluates `y + x`, \n",
    "allocating new memory for the result \n",
    "and then subsequently redirects `y` \n",
    "to point at this new location in memory."
   ]
  },
  {
   "cell_type": "code",
   "execution_count": 22,
   "metadata": {
    "attributes": {
     "classes": [],
     "id": "",
     "n": "15"
    }
   },
   "outputs": [
    {
     "data": {
      "text/plain": [
       "False"
      ]
     },
     "execution_count": 22,
     "metadata": {},
     "output_type": "execute_result"
    }
   ],
   "source": [
    "before = id(y)\n",
    "y = y + x\n",
    "id(y) == before"
   ]
  },
  {
   "cell_type": "markdown",
   "metadata": {},
   "source": [
    "This might be undesirable for two reasons.\n",
    "First, we do not want to run around \n",
    "allocating memory unnecessarily all the time. \n",
    "In machine learning, we might have \n",
    "hundreds of megabytes of parameters \n",
    "and update all of them multiple times per second. \n",
    "Typically, we will want to perform these updates *in place*. \n",
    "Second, we might point at the same parameters from multiple variables. \n",
    "If we do not update in place, this could cause a memory leak, \n",
    "and make it possible for parts of our code\n",
    "to inadvertently reference stale parameters.\n",
    "\n",
    "Fortunately, performing in-place operations in MXNet is easy. \n",
    "We can assign the result of an operation \n",
    "to a previously allocated array with slice notation, \n",
    "e.g., `y[:] = <expression>`. \n",
    "To illustrate this concept, we first create a new matrix `z`\n",
    "with the same shape as another `y`, \n",
    "using `zeros_like` to allocate a block of 0 entries."
   ]
  },
  {
   "cell_type": "code",
   "execution_count": 23,
   "metadata": {
    "attributes": {
     "classes": [],
     "id": "",
     "n": "16"
    }
   },
   "outputs": [
    {
     "name": "stdout",
     "output_type": "stream",
     "text": [
      "id(z): 140247796356592\n",
      "id(z): 140247796356592\n"
     ]
    }
   ],
   "source": [
    "z = np.zeros_like(y)  \n",
    "print('id(z):', id(z))\n",
    "z[:] = x + y\n",
    "print('id(z):', id(z))"
   ]
  },
  {
   "cell_type": "markdown",
   "metadata": {},
   "source": [
    "If the value of `x ` is not reused in subsequent computations, \n",
    "we can also use `x[:] = x + y` or `x += y`\n",
    "to reduce the memory overhead of the operation."
   ]
  },
  {
   "cell_type": "code",
   "execution_count": 24,
   "metadata": {
    "attributes": {
     "classes": [],
     "id": "",
     "n": "18"
    }
   },
   "outputs": [
    {
     "data": {
      "text/plain": [
       "True"
      ]
     },
     "execution_count": 24,
     "metadata": {},
     "output_type": "execute_result"
    }
   ],
   "source": [
    "before = id(x)\n",
    "x += y\n",
    "id(x) == before"
   ]
  },
  {
   "cell_type": "markdown",
   "metadata": {},
   "source": [
    "## `mxnet.numpy.ndarray` and `numpy.ndarray`\n",
    "\n",
    "Transforming an ndarray from an object in NumPy \n",
    "(a scientific computing package of Python) \n",
    "to an object in MXNet package, or *vice versa*, is easy. \n",
    "The converted array does not share memory. \n",
    "This minor inconvenience is actually quite important: \n",
    "when you perform operations on the CPU or on GPUs, \n",
    "you do not want MXNet to halt computation, waiting to see\n",
    "whether NumPy might want to be doing something else \n",
    "with the same chunk of memory. \n",
    "The  `array` and `asnumpy` functions do the trick."
   ]
  },
  {
   "cell_type": "code",
   "execution_count": 25,
   "metadata": {
    "attributes": {
     "classes": [],
     "id": "",
     "n": "22"
    }
   },
   "outputs": [
    {
     "name": "stdout",
     "output_type": "stream",
     "text": [
      "<class 'numpy.ndarray'>\n",
      "<class 'mxnet.numpy.ndarray'>\n"
     ]
    }
   ],
   "source": [
    "a = x.asnumpy()\n",
    "print(type(a))\n",
    "b = np.array(a)\n",
    "print(type(b))"
   ]
  },
  {
   "cell_type": "markdown",
   "metadata": {},
   "source": [
    "## Summary\n",
    "\n",
    "* We introduce N-dimensional array (ndarray) in MXNet, an extention of NumPy’s ndarray.\n",
    "* Ndarray contains a variety of functionalities such as basic mathematics operations, broadcasting, indexing, slicing, memory saving and loading. \n",
    "\n",
    "## Exercises\n",
    "\n",
    "1. Run the code in this section. Change the conditional statement `x == y` in this section to `x < y` or `x > y`, and then see what kind of ndarray you can get.\n",
    "1. Replace the two ndarrays that operate by element in the broadcast mechanism with other shapes, e.g. three dimensional tensors. Is the result the same as expected?\n",
    "1. Assume that we have three matrices `a`, `b` and `c`. Rewrite `c = np.linalg.dot(a, b.T) + c` in the most memory efficient manner.\n",
    "\n",
    "## Scan the QR Code to [Discuss](https://discuss.mxnet.io/t/2316)\n",
    "\n",
    "![](../img/qr_ndarray.svg)"
   ]
  }
 ],
 "metadata": {
  "kernelspec": {
   "display_name": "Python 3",
   "language": "python",
   "name": "python3"
  },
  "language_info": {
   "codemirror_mode": {
    "name": "ipython",
    "version": 3
   },
   "file_extension": ".py",
   "mimetype": "text/x-python",
   "name": "python",
   "nbconvert_exporter": "python",
   "pygments_lexer": "ipython3",
   "version": "3.6.5"
  }
 },
 "nbformat": 4,
 "nbformat_minor": 2
}
