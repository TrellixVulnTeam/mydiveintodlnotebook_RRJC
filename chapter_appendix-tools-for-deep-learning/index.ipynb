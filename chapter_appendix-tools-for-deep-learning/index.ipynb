{
 "cells": [
  {
   "cell_type": "markdown",
   "metadata": {},
   "source": [
    "# Appendix: Tools for Deep Learning\n",
    "\n",
    ":label:`chap_appendix_tools`\n",
    "\n",
    "\n",
    "In this chapter, we will walk you through major tools for deep learning, from introducing Jupyter notebook in :numref:`sec_jupyter` to empowering you training models on Cloud such as Amazon Sagemaker :numref:`sec_sagemaker`, Amazon EC2 :numref:`sec_aws` and Google Colab. Besides, if you would like to purchase your own GPUs, we also note down some practical suggestions in :numref:`sec_buy_gpu`. If you are interested in being a contributor of this book, you may follow the instructions in :label:`sec_how_to_contribute`."
   ]
  },
  {
   "cell_type": "markdown",
   "metadata": {},
   "source": [
    "```toc\n",
    ":maxdepth: 2\n",
    "\n",
    "jupyter\n",
    "sagemaker\n",
    "aws\n",
    "selecting-servers-gpus\n",
    "contributing\n",
    "d2l\n",
    "```\n"
   ]
  }
 ],
 "metadata": {
  "language_info": {
   "name": "python"
  }
 },
 "nbformat": 4,
 "nbformat_minor": 2
}